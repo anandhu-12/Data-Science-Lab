{
 "cells": [
  {
   "cell_type": "code",
   "execution_count": 2,
   "id": "36d2e2be",
   "metadata": {},
   "outputs": [
    {
     "name": "stdout",
     "output_type": "stream",
     "text": [
      "   customerID  Gender  Age  Annual_Income  spending score\n",
      "0           1    male   20             10              30\n",
      "1           2  female   21             20              50\n",
      "2           3  female   19             30              58\n",
      "3           4    male   18             10              84\n",
      "4           5    male   25             25              90\n",
      "5           6  female   26             60              65\n",
      "6           7    male   32             70              32\n",
      "7           8    male   41             15              46\n",
      "8           9  female   20             21              12\n",
      "9          10    male   19             22              56\n"
     ]
    }
   ],
   "source": [
    "import pandas as pd\n",
    "data_dict1={'customerID':[1,2,3,4,5,6,7,8,9,10],\n",
    "            'Gender':['male','female','female','male','male','female','male','male','female','male'],\n",
    "           'Age':[20,21,19,18,25,26,32,41,20,19],\n",
    "           'Annual_Income':[10,20,30,10,25,60,70,15,21,22],\n",
    "           'spending score':[30,50,58,84,90,65,32,46,12,56]}\n",
    "data1=pd.DataFrame(data_dict1)\n",
    "data1.to_csv(\"customers1.csv\")\n",
    "print(data1)"
   ]
  },
  {
   "cell_type": "code",
   "execution_count": 3,
   "id": "22f625dd",
   "metadata": {},
   "outputs": [
    {
     "name": "stdout",
     "output_type": "stream",
     "text": [
      "   customerID  Gender  Age  Annual_Income  spending score\n",
      "0          11    male   23             10              38\n",
      "1          12  female   33             20              59\n",
      "2          13  female   19             30              48\n",
      "3          14    male   18             10              99\n",
      "4          15    male   25             25              94\n",
      "5          16  female   26             60              66\n",
      "6          17    male   32             70              44\n",
      "7          18    male   41             15              51\n",
      "8          19  female   20             21              12\n",
      "9          20    male   19             22              56\n"
     ]
    }
   ],
   "source": [
    "import pandas as pd\n",
    "data_dict2={'customerID':[11,12,13,14,15,16,17,18,19,20],\n",
    "            'Gender':['male','female','female','male','male','female','male','male','female','male'],\n",
    "           'Age':[23,33,19,18,25,26,32,41,20,19],\n",
    "           'Annual_Income':[10,20,30,10,25,60,70,15,21,22],\n",
    "           'spending score':[38,59,48,99,94,66,44,51,12,56]}\n",
    "data2=pd.DataFrame(data_dict2)\n",
    "data2.to_csv(\"customers2.csv\")\n",
    "print(data2)"
   ]
  },
  {
   "cell_type": "code",
   "execution_count": 5,
   "id": "f6503977",
   "metadata": {},
   "outputs": [
    {
     "name": "stdout",
     "output_type": "stream",
     "text": [
      "Merged file is:\n",
      "    Unnamed: 0  customerID  Gender  Age  Annual_Income  spending score\n",
      "0            0           1    male   20             10              30\n",
      "1            1           2  female   21             20              50\n",
      "2            2           3  female   19             30              58\n",
      "3            3           4    male   18             10              84\n",
      "4            4           5    male   25             25              90\n",
      "5            5           6  female   26             60              65\n",
      "6            6           7    male   32             70              32\n",
      "7            7           8    male   41             15              46\n",
      "8            8           9  female   20             21              12\n",
      "9            9          10    male   19             22              56\n",
      "10           0          11    male   23             10              38\n",
      "11           1          12  female   33             20              59\n",
      "12           2          13  female   19             30              48\n",
      "13           3          14    male   18             10              99\n",
      "14           4          15    male   25             25              94\n",
      "15           5          16  female   26             60              66\n",
      "16           6          17    male   32             70              44\n",
      "17           7          18    male   41             15              51\n",
      "18           8          19  female   20             21              12\n",
      "19           9          20    male   19             22              56\n"
     ]
    }
   ],
   "source": [
    "df=pd.concat(map(pd.read_csv,['customers1.csv','customers2.csv']),ignore_index=True)\n",
    "df.to_csv(\"mergedfiles.csv\")\n",
    "print(\"Merged file is:\")\n",
    "print(df)\n"
   ]
  },
  {
   "cell_type": "code",
   "execution_count": null,
   "id": "6993b793",
   "metadata": {},
   "outputs": [],
   "source": []
  }
 ],
 "metadata": {
  "kernelspec": {
   "display_name": "Python 3 (ipykernel)",
   "language": "python",
   "name": "python3"
  },
  "language_info": {
   "codemirror_mode": {
    "name": "ipython",
    "version": 3
   },
   "file_extension": ".py",
   "mimetype": "text/x-python",
   "name": "python",
   "nbconvert_exporter": "python",
   "pygments_lexer": "ipython3",
   "version": "3.9.12"
  }
 },
 "nbformat": 4,
 "nbformat_minor": 5
}
