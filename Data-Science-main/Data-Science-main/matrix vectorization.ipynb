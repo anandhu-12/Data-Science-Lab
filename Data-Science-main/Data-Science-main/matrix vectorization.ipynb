{
 "cells": [
  {
   "cell_type": "code",
   "execution_count": 1,
   "id": "07373bb9",
   "metadata": {},
   "outputs": [],
   "source": [
    "import numpy as np"
   ]
  },
  {
   "cell_type": "code",
   "execution_count": 2,
   "id": "b7121210",
   "metadata": {},
   "outputs": [
    {
     "name": "stdout",
     "output_type": "stream",
     "text": [
      "type: <class 'numpy.ndarray'>\n",
      "shape: 3\n",
      "1 2 3\n",
      "[5 2 3]\n"
     ]
    }
   ],
   "source": [
    "a=np.array([1,2,3])\n",
    "print(\"type: %s\" %type(a))\n",
    "print(\"shape: %s\" %a.shape)\n",
    "print(a[0],a[1],a[2])\n",
    "a[0]=5\n",
    "print(a)"
   ]
  },
  {
   "cell_type": "code",
   "execution_count": 3,
   "id": "670ff172",
   "metadata": {},
   "outputs": [
    {
     "name": "stdout",
     "output_type": "stream",
     "text": [
      "shape of b: (2, 3)\n",
      "1 2 4\n"
     ]
    }
   ],
   "source": [
    "b=np.array([[1,2,3],[4,5,6]])\n",
    "print(\"shape of b:\",b.shape) \n",
    "print(b[0,0],b[0,1],b[1,0])"
   ]
  },
  {
   "cell_type": "code",
   "execution_count": 5,
   "id": "cc3ed1df",
   "metadata": {},
   "outputs": [
    {
     "name": "stdout",
     "output_type": "stream",
     "text": [
      "All zeros matrix: [[0. 0.]\n",
      " [0. 0.]]\n"
     ]
    }
   ],
   "source": [
    "a=np.zeros((2,2)) \n",
    "print(\"All zeros matrix: %s\" %a)"
   ]
  },
  {
   "cell_type": "code",
   "execution_count": 6,
   "id": "6e295dcf",
   "metadata": {},
   "outputs": [
    {
     "name": "stdout",
     "output_type": "stream",
     "text": [
      "All ones matrix: [[0. 0.]\n",
      " [0. 0.]]\n"
     ]
    }
   ],
   "source": [
    "b=np.ones((1,2)) \n",
    "print(\"All ones matrix: %s\" %a)"
   ]
  },
  {
   "cell_type": "code",
   "execution_count": 7,
   "id": "882237b6",
   "metadata": {},
   "outputs": [
    {
     "name": "stdout",
     "output_type": "stream",
     "text": [
      "identify matrix: [[1. 0.]\n",
      " [0. 1.]]\n"
     ]
    }
   ],
   "source": [
    "d=np.eye(2) \n",
    "print(\"identify matrix: %s\" %d)"
   ]
  },
  {
   "cell_type": "code",
   "execution_count": 8,
   "id": "5aab1099",
   "metadata": {},
   "outputs": [
    {
     "name": "stdout",
     "output_type": "stream",
     "text": [
      "Random matrix: [[0.77336852 0.14869934]\n",
      " [0.38121503 0.6717644 ]]\n"
     ]
    }
   ],
   "source": [
    "e=np.random.random((2,2)) \n",
    "print(\"Random matrix: %s\" %e)"
   ]
  },
  {
   "cell_type": "code",
   "execution_count": 9,
   "id": "ce657f5e",
   "metadata": {},
   "outputs": [
    {
     "name": "stdout",
     "output_type": "stream",
     "text": [
      "Vectorized sum example\n",
      "x: [[1 2]\n",
      " [3 4]]\n",
      "Sum : 10\n",
      "sum axis=0 [4 6]\n",
      "sum axis=1 [3 7]\n"
     ]
    }
   ],
   "source": [
    "print(\"Vectorized sum example\")\n",
    "x=np.array([[1,2],[3,4]])\n",
    "print(\"x: %s\" %x)\n",
    "print(\"Sum : %s\"%np.sum(x))\n",
    "print(\"sum axis=0 %s\" %np.sum(x, axis=0))\n",
    "print(\"sum axis=1 %s\" %np.sum(x, axis=1))"
   ]
  },
  {
   "cell_type": "code",
   "execution_count": 10,
   "id": "ea8489f1",
   "metadata": {},
   "outputs": [
    {
     "name": "stdout",
     "output_type": "stream",
     "text": [
      "Dot product :-1724114088\n"
     ]
    }
   ],
   "source": [
    "a=np.arange(10000)\n",
    "b=np.arange(10000)\n",
    "dp=np.dot(a,b)\n",
    "print(\"Dot product :%s\" %dp)"
   ]
  },
  {
   "cell_type": "code",
   "execution_count": 13,
   "id": "099d4c8c",
   "metadata": {},
   "outputs": [
    {
     "name": "stdout",
     "output_type": "stream",
     "text": [
      "Outer Product : [[       0        0        0 ...        0        0        0]\n",
      " [       0        1        2 ...     9997     9998     9999]\n",
      " [       0        2        4 ...    19994    19996    19998]\n",
      " ...\n",
      " [       0     9997    19994 ... 99940009 99950006 99960003]\n",
      " [       0     9998    19996 ... 99950006 99960004 99970002]\n",
      " [       0     9999    19998 ... 99960003 99970002 99980001]]\n",
      "\n",
      " Element wise product:[       0        1        4 ... 99940009 99960004 99980001] \n",
      "\n"
     ]
    }
   ],
   "source": [
    "op=np.outer(a,b)\n",
    "print(\"Outer Product : %s\" %op)\n",
    "ep=np.multiply(a,b)\n",
    "print(\"\\n Element wise product:%s \\n\"%ep)"
   ]
  },
  {
   "cell_type": "code",
   "execution_count": 12,
   "id": "353caade",
   "metadata": {},
   "outputs": [
    {
     "name": "stdout",
     "output_type": "stream",
     "text": [
      "Original X: [[1 2]\n",
      " [3 4]]\n",
      "Transpose of x: [[1 3]\n",
      " [2 4]]\n"
     ]
    }
   ],
   "source": [
    "x = np.array([[1,2], [3,4]])\n",
    "print(\"Original X: %s\" %x)\n",
    "print(\"Transpose of x: %s\" %x.T)\n"
   ]
  },
  {
   "cell_type": "code",
   "execution_count": 14,
   "id": "0d3a1d55",
   "metadata": {},
   "outputs": [
    {
     "name": "stdout",
     "output_type": "stream",
     "text": [
      "[[1 2]\n",
      " [3 4]\n",
      " [5 6]]\n",
      "U: [[-0.2298477   0.88346102  0.40824829]\n",
      " [-0.52474482  0.24078249 -0.81649658]\n",
      " [-0.81964194 -0.40189603  0.40824829]]\n",
      "s: [9.52551809 0.51430058]\n",
      "VT: [[-0.61962948 -0.78489445]\n",
      " [-0.78489445  0.61962948]]\n"
     ]
    }
   ],
   "source": [
    "from numpy import array\n",
    "from scipy.linalg import svd\n",
    "A = array([[1, 2], [3, 4], [5, 6]])\n",
    "print(A)\n",
    "U, s, VT = svd(A)\n",
    "print(\"U: %s\" %U)\n",
    "print(\"s: %s\" %s)\n",
    "print(\"VT: %s\" %VT)"
   ]
  },
  {
   "cell_type": "code",
   "execution_count": null,
   "id": "af578cbc",
   "metadata": {},
   "outputs": [],
   "source": [
    "0"
   ]
  }
 ],
 "metadata": {
  "kernelspec": {
   "display_name": "Python 3 (ipykernel)",
   "language": "python",
   "name": "python3"
  },
  "language_info": {
   "codemirror_mode": {
    "name": "ipython",
    "version": 3
   },
   "file_extension": ".py",
   "mimetype": "text/x-python",
   "name": "python",
   "nbconvert_exporter": "python",
   "pygments_lexer": "ipython3",
   "version": "3.9.12"
  }
 },
 "nbformat": 4,
 "nbformat_minor": 5
}
